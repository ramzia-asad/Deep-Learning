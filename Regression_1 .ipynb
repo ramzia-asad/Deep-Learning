{
  "nbformat": 4,
  "nbformat_minor": 0,
  "metadata": {
    "colab": {
      "name": "Regression 1.ipynb",
      "provenance": [],
      "collapsed_sections": []
    },
    "kernelspec": {
      "name": "python3",
      "display_name": "Python 3"
    },
    "language_info": {
      "name": "python"
    }
  },
  "cells": [
    {
      "cell_type": "code",
      "metadata": {
        "id": "vo-5ggk57USz"
      },
      "source": [
        "import tensorflow as tf"
      ],
      "execution_count": 3,
      "outputs": []
    },
    {
      "cell_type": "code",
      "metadata": {
        "id": "QYeLKmgl8GXL"
      },
      "source": [
        "from tensorflow.keras.datasets import boston_housing\n",
        "from tensorflow.keras import models, layers, optimizers, utils\n",
        "import numpy as np\n",
        "import matplotlib.pyplot as plt"
      ],
      "execution_count": 5,
      "outputs": []
    },
    {
      "cell_type": "code",
      "metadata": {
        "id": "V6U-NPI08OL5"
      },
      "source": [
        "(train_data, train_targets), (test_data, test_targets) = boston_housing.load_data()\n",
        "print(train_data.shape)\n",
        "print(test_data.shape)\n",
        "print(train_targets)\n",
        "#train_data[0]"
      ],
      "execution_count": null,
      "outputs": []
    },
    {
      "cell_type": "code",
      "metadata": {
        "id": "XDCVeifR9ApO"
      },
      "source": [
        "mean = train_data.mean(axis=0)\n",
        "train_data -= mean\n",
        "std = train_data.std(axis=0)\n",
        "train_data /= std\n",
        "test_data -= mean\n",
        "test_data /= std"
      ],
      "execution_count": 7,
      "outputs": []
    },
    {
      "cell_type": "code",
      "metadata": {
        "id": "NcBQlFkh-BMm"
      },
      "source": [
        "def build_model():\n",
        " model = models.Sequential() \n",
        " model.add(layers.Dense(64, activation='relu', input_shape=(train_data.shape[1],)))\n",
        " model.add(layers.Dense(64, activation='relu'))\n",
        " model.add(layers.Dense(1))\n",
        " model.compile(optimizer='rmsprop', loss='mse', metrics = ['mae'])\n",
        " return model"
      ],
      "execution_count": 8,
      "outputs": []
    },
    {
      "cell_type": "code",
      "metadata": {
        "colab": {
          "base_uri": "https://localhost:8080/"
        },
        "id": "mRzALZ8T9aAB",
        "outputId": "31564025-fece-4137-943e-e01d9c299e3d"
      },
      "source": [
        "k = 4\n",
        "num_val_samples = len(train_data) // k\n",
        "num_epochs = 100\n",
        "all_scores = []\n",
        "all_mae_histories = []\n",
        "for i in range(k):\n",
        " print('processing fold #', i)\n",
        " val_data = train_data[i * num_val_samples: (i + 1) * num_val_samples]\n",
        " val_targets = train_targets[i * num_val_samples: (i + 1) * num_val_samples]\n",
        " partial_train_data = np.concatenate( [train_data[:i * num_val_samples],train_data[(i + 1) * num_val_samples:]],axis=0)\n",
        " partial_train_targets = np.concatenate([train_targets[:i * num_val_samples],train_targets[(i + 1) * num_val_samples:]],axis=0)\n",
        " model = build_model() \n",
        " history = model.fit(partial_train_data, partial_train_targets, epochs=num_epochs, batch_size=1, verbose=0)\n",
        " val_mse, val_mae = model.evaluate(val_data, val_targets,verbose=0)\n",
        " all_scores.append(val_mae)\n",
        "\n",
        " mae_history = history.history['mae']\n",
        " all_mae_histories.append(mae_history)"
      ],
      "execution_count": 13,
      "outputs": [
        {
          "output_type": "stream",
          "text": [
            "processing fold # 0\n",
            "processing fold # 1\n",
            "processing fold # 2\n",
            "processing fold # 3\n"
          ],
          "name": "stdout"
        }
      ]
    },
    {
      "cell_type": "code",
      "metadata": {
        "id": "9TpPyF-MDqGw"
      },
      "source": [
        "average_mae_history = [\n",
        " np.mean([x[i] for x in all_mae_histories]) for i in\n",
        "range(num_epochs)]"
      ],
      "execution_count": 14,
      "outputs": []
    },
    {
      "cell_type": "code",
      "metadata": {
        "colab": {
          "base_uri": "https://localhost:8080/"
        },
        "id": "6N8169wSCkku",
        "outputId": "cbeb8f39-b102-4a2d-cf46-b3acfbffd041"
      },
      "source": [
        "print(all_scores)\n",
        "print(np.mean(all_scores))\n",
        "print(average_mae_history)"
      ],
      "execution_count": 15,
      "outputs": [
        {
          "output_type": "stream",
          "text": [
            "[2.157142400741577, 2.183915615081787, 2.952911615371704, 2.3076250553131104]\n",
            "2.4003986716270447\n",
            "[10.985305070877075, 3.8117247223854065, 3.081531584262848, 2.7550289630889893, 2.5781649351119995, 2.4635176062583923, 2.3789108395576477, 2.311413824558258, 2.2668233513832092, 2.237291157245636, 2.196846842765808, 2.130558431148529, 2.1389485597610474, 2.1099089980125427, 2.066842794418335, 2.055768698453903, 2.0392953157424927, 2.0359615087509155, 2.0082359611988068, 1.9891524016857147, 1.9795421063899994, 1.9234175086021423, 1.9297685623168945, 1.9097411632537842, 1.8498120307922363, 1.8705023229122162, 1.849539577960968, 1.8194621801376343, 1.8324397504329681, 1.8114304840564728, 1.7692477405071259, 1.7928244471549988, 1.763070285320282, 1.7864543795585632, 1.7466408014297485, 1.7413274645805359, 1.7169552445411682, 1.6940878331661224, 1.7115411460399628, 1.7232974469661713, 1.7021034955978394, 1.709880292415619, 1.6876346468925476, 1.660516232252121, 1.6581190526485443, 1.6071364879608154, 1.6364909708499908, 1.6123915314674377, 1.6009721159934998, 1.6256422102451324, 1.5904589593410492, 1.5698506236076355, 1.5839030742645264, 1.576438456773758, 1.5911613404750824, 1.5402946174144745, 1.549011379480362, 1.5415733456611633, 1.528078019618988, 1.519601821899414, 1.5046131610870361, 1.5165500938892365, 1.5110846757888794, 1.4856813251972198, 1.5141237080097198, 1.4767197370529175, 1.4593333005905151, 1.4888454973697662, 1.4877904653549194, 1.448987752199173, 1.4366692900657654, 1.4399491250514984, 1.4416393637657166, 1.4269815981388092, 1.4316078424453735, 1.4067223966121674, 1.4499830603599548, 1.4406007826328278, 1.4006624519824982, 1.413664549589157, 1.4112162590026855, 1.3984169661998749, 1.404484510421753, 1.3581557273864746, 1.3685884773731232, 1.3747563362121582, 1.3573360741138458, 1.357861876487732, 1.3399077653884888, 1.3607759177684784, 1.3214291334152222, 1.3278334438800812, 1.3397114872932434, 1.3135625720024109, 1.3305329084396362, 1.3331095278263092, 1.341367483139038, 1.3113679885864258, 1.3292453289031982, 1.299384355545044]\n"
          ],
          "name": "stdout"
        }
      ]
    },
    {
      "cell_type": "code",
      "metadata": {
        "colab": {
          "base_uri": "https://localhost:8080/"
        },
        "id": "dRqXbUzhBqBi",
        "outputId": "e932b872-c063-40f2-d71c-10cf6cbbde8e"
      },
      "source": [
        "[len(x) for x in all_mae_histories]"
      ],
      "execution_count": 17,
      "outputs": [
        {
          "output_type": "execute_result",
          "data": {
            "text/plain": [
              "[100, 100, 100, 100]"
            ]
          },
          "metadata": {
            "tags": []
          },
          "execution_count": 17
        }
      ]
    },
    {
      "cell_type": "code",
      "metadata": {
        "colab": {
          "base_uri": "https://localhost:8080/",
          "height": 279
        },
        "id": "fSkQA0lREvFu",
        "outputId": "e14545e6-0692-4952-ce42-b90d23397804"
      },
      "source": [
        "plt.plot(range(1, len(average_mae_history) + 1),average_mae_history)\n",
        "plt.xlabel('Epochs')\n",
        "plt.ylabel('Validation MAE')\n",
        "plt.show()"
      ],
      "execution_count": 18,
      "outputs": [
        {
          "output_type": "display_data",
          "data": {
            "image/png": "[encoded data removed]",
            "text/plain": [
              "<Figure size 432x288 with 1 Axes>"
            ]
          },
          "metadata": {
            "tags": [],
            "needs_background": "light"
          }
        }
      ]
    },
    {
      "cell_type": "code",
      "metadata": {
        "colab": {
          "base_uri": "https://localhost:8080/",
          "height": 279
        },
        "id": "KNks6AGmFBFy",
        "outputId": "26380f75-5781-4f73-a7ae-dcf31f212c32"
      },
      "source": [
        "def smooth_curve(points, factor=0.9):\n",
        " smoothed_points = []\n",
        " for point in points:\n",
        "   if smoothed_points:\n",
        "     previous = smoothed_points[-1]\n",
        "     smoothed_points.append(previous * factor + point * (1 -factor))\n",
        "   else:\n",
        "     smoothed_points.append(point)\n",
        " return smoothed_points\n",
        "smooth_mae_history = smooth_curve(average_mae_history[10:])\n",
        "plt.plot(range(1, len(smooth_mae_history) + 1), smooth_mae_history)\n",
        "plt.xlabel('Epochs')\n",
        "plt.ylabel('Validation MAE')\n",
        "plt.show()"
      ],
      "execution_count": 23,
      "outputs": [
        {
          "output_type": "display_data",
          "data": {
            "image/png": "[encoded data removed]",
            "text/plain": [
              "<Figure size 432x288 with 1 Axes>"
            ]
          },
          "metadata": {
            "tags": [],
            "needs_background": "light"
          }
        }
      ]
    }
  ]
}